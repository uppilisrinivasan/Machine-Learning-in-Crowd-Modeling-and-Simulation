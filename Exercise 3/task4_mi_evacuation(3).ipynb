{
  "nbformat": 4,
  "nbformat_minor": 0,
  "metadata": {
    "colab": {
      "provenance": []
    },
    "kernelspec": {
      "name": "python3",
      "display_name": "Python 3"
    },
    "language_info": {
      "name": "python"
    }
  },
  "cells": [
    {
      "cell_type": "code",
      "source": [
        "import matplotlib.pyplot as plt\n",
        "import math\n",
        "import numpy as np\n",
        "import pandas as pd\n",
        "from sklearn.preprocessing import MinMaxScaler"
      ],
      "metadata": {
        "id": "tPopRq5toXzR"
      },
      "execution_count": 1,
      "outputs": []
    },
    {
      "cell_type": "code",
      "source": [
        "data_train = np.load('FireEvac_train_set.npy')\n",
        "print(type(data_train))"
      ],
      "metadata": {
        "colab": {
          "base_uri": "https://localhost:8080/"
        },
        "id": "51u58jU6RgMG",
        "outputId": "e5fc1e42-8e23-406e-cc89-4261a2b6d2bb"
      },
      "execution_count": 2,
      "outputs": [
        {
          "output_type": "stream",
          "name": "stdout",
          "text": [
            "<class 'numpy.ndarray'>\n"
          ]
        }
      ]
    },
    {
      "cell_type": "code",
      "source": [
        "df_train = pd.DataFrame(data_train,columns = ['X-Coordinate','Y-Coordinate'])\n",
        "df_train.head()"
      ],
      "metadata": {
        "colab": {
          "base_uri": "https://localhost:8080/",
          "height": 206
        },
        "id": "ggJC3X1RRi0H",
        "outputId": "28ec5970-fab3-4130-9f84-d96194fd0282"
      },
      "execution_count": 3,
      "outputs": [
        {
          "output_type": "execute_result",
          "data": {
            "text/plain": [
              "   X-Coordinate  Y-Coordinate\n",
              "0     86.692627     62.442292\n",
              "1     75.545682     78.160170\n",
              "2    123.449519     85.437612\n",
              "3     74.980185     81.212226\n",
              "4    122.617385     71.400531"
            ],
            "text/html": [
              "\n",
              "  <div id=\"df-7b62556f-2ab3-4cb0-bdfa-c1d6bf7a1c2b\">\n",
              "    <div class=\"colab-df-container\">\n",
              "      <div>\n",
              "<style scoped>\n",
              "    .dataframe tbody tr th:only-of-type {\n",
              "        vertical-align: middle;\n",
              "    }\n",
              "\n",
              "    .dataframe tbody tr th {\n",
              "        vertical-align: top;\n",
              "    }\n",
              "\n",
              "    .dataframe thead th {\n",
              "        text-align: right;\n",
              "    }\n",
              "</style>\n",
              "<table border=\"1\" class=\"dataframe\">\n",
              "  <thead>\n",
              "    <tr style=\"text-align: right;\">\n",
              "      <th></th>\n",
              "      <th>X-Coordinate</th>\n",
              "      <th>Y-Coordinate</th>\n",
              "    </tr>\n",
              "  </thead>\n",
              "  <tbody>\n",
              "    <tr>\n",
              "      <th>0</th>\n",
              "      <td>86.692627</td>\n",
              "      <td>62.442292</td>\n",
              "    </tr>\n",
              "    <tr>\n",
              "      <th>1</th>\n",
              "      <td>75.545682</td>\n",
              "      <td>78.160170</td>\n",
              "    </tr>\n",
              "    <tr>\n",
              "      <th>2</th>\n",
              "      <td>123.449519</td>\n",
              "      <td>85.437612</td>\n",
              "    </tr>\n",
              "    <tr>\n",
              "      <th>3</th>\n",
              "      <td>74.980185</td>\n",
              "      <td>81.212226</td>\n",
              "    </tr>\n",
              "    <tr>\n",
              "      <th>4</th>\n",
              "      <td>122.617385</td>\n",
              "      <td>71.400531</td>\n",
              "    </tr>\n",
              "  </tbody>\n",
              "</table>\n",
              "</div>\n",
              "      <button class=\"colab-df-convert\" onclick=\"convertToInteractive('df-7b62556f-2ab3-4cb0-bdfa-c1d6bf7a1c2b')\"\n",
              "              title=\"Convert this dataframe to an interactive table.\"\n",
              "              style=\"display:none;\">\n",
              "        \n",
              "  <svg xmlns=\"http://www.w3.org/2000/svg\" height=\"24px\"viewBox=\"0 0 24 24\"\n",
              "       width=\"24px\">\n",
              "    <path d=\"M0 0h24v24H0V0z\" fill=\"none\"/>\n",
              "    <path d=\"M18.56 5.44l.94 2.06.94-2.06 2.06-.94-2.06-.94-.94-2.06-.94 2.06-2.06.94zm-11 1L8.5 8.5l.94-2.06 2.06-.94-2.06-.94L8.5 2.5l-.94 2.06-2.06.94zm10 10l.94 2.06.94-2.06 2.06-.94-2.06-.94-.94-2.06-.94 2.06-2.06.94z\"/><path d=\"M17.41 7.96l-1.37-1.37c-.4-.4-.92-.59-1.43-.59-.52 0-1.04.2-1.43.59L10.3 9.45l-7.72 7.72c-.78.78-.78 2.05 0 2.83L4 21.41c.39.39.9.59 1.41.59.51 0 1.02-.2 1.41-.59l7.78-7.78 2.81-2.81c.8-.78.8-2.07 0-2.86zM5.41 20L4 18.59l7.72-7.72 1.47 1.35L5.41 20z\"/>\n",
              "  </svg>\n",
              "      </button>\n",
              "      \n",
              "  <style>\n",
              "    .colab-df-container {\n",
              "      display:flex;\n",
              "      flex-wrap:wrap;\n",
              "      gap: 12px;\n",
              "    }\n",
              "\n",
              "    .colab-df-convert {\n",
              "      background-color: #E8F0FE;\n",
              "      border: none;\n",
              "      border-radius: 50%;\n",
              "      cursor: pointer;\n",
              "      display: none;\n",
              "      fill: #1967D2;\n",
              "      height: 32px;\n",
              "      padding: 0 0 0 0;\n",
              "      width: 32px;\n",
              "    }\n",
              "\n",
              "    .colab-df-convert:hover {\n",
              "      background-color: #E2EBFA;\n",
              "      box-shadow: 0px 1px 2px rgba(60, 64, 67, 0.3), 0px 1px 3px 1px rgba(60, 64, 67, 0.15);\n",
              "      fill: #174EA6;\n",
              "    }\n",
              "\n",
              "    [theme=dark] .colab-df-convert {\n",
              "      background-color: #3B4455;\n",
              "      fill: #D2E3FC;\n",
              "    }\n",
              "\n",
              "    [theme=dark] .colab-df-convert:hover {\n",
              "      background-color: #434B5C;\n",
              "      box-shadow: 0px 1px 3px 1px rgba(0, 0, 0, 0.15);\n",
              "      filter: drop-shadow(0px 1px 2px rgba(0, 0, 0, 0.3));\n",
              "      fill: #FFFFFF;\n",
              "    }\n",
              "  </style>\n",
              "\n",
              "      <script>\n",
              "        const buttonEl =\n",
              "          document.querySelector('#df-7b62556f-2ab3-4cb0-bdfa-c1d6bf7a1c2b button.colab-df-convert');\n",
              "        buttonEl.style.display =\n",
              "          google.colab.kernel.accessAllowed ? 'block' : 'none';\n",
              "\n",
              "        async function convertToInteractive(key) {\n",
              "          const element = document.querySelector('#df-7b62556f-2ab3-4cb0-bdfa-c1d6bf7a1c2b');\n",
              "          const dataTable =\n",
              "            await google.colab.kernel.invokeFunction('convertToInteractive',\n",
              "                                                     [key], {});\n",
              "          if (!dataTable) return;\n",
              "\n",
              "          const docLinkHtml = 'Like what you see? Visit the ' +\n",
              "            '<a target=\"_blank\" href=https://colab.research.google.com/notebooks/data_table.ipynb>data table notebook</a>'\n",
              "            + ' to learn more about interactive tables.';\n",
              "          element.innerHTML = '';\n",
              "          dataTable['output_type'] = 'display_data';\n",
              "          await google.colab.output.renderOutput(dataTable, element);\n",
              "          const docLink = document.createElement('div');\n",
              "          docLink.innerHTML = docLinkHtml;\n",
              "          element.appendChild(docLink);\n",
              "        }\n",
              "      </script>\n",
              "    </div>\n",
              "  </div>\n",
              "  "
            ]
          },
          "metadata": {},
          "execution_count": 3
        }
      ]
    },
    {
      "cell_type": "code",
      "source": [
        "df_train.plot(kind = 'scatter',x='X-Coordinate',y='Y-Coordinate',title='Training data of MI Building')"
      ],
      "metadata": {
        "colab": {
          "base_uri": "https://localhost:8080/",
          "height": 313
        },
        "id": "UEzjGTVQRlwd",
        "outputId": "c9b6c5de-d328-4195-c4eb-30e55eae5716"
      },
      "execution_count": 4,
      "outputs": [
        {
          "output_type": "execute_result",
          "data": {
            "text/plain": [
              "<matplotlib.axes._subplots.AxesSubplot at 0x7f741c73b490>"
            ]
          },
          "metadata": {},
          "execution_count": 4
        },
        {
          "output_type": "display_data",
          "data": {
            "text/plain": [
              "<Figure size 432x288 with 1 Axes>"
            ],
            "image/png": "[encoded data removed]"
          },
          "metadata": {
            "needs_background": "light"
          }
        }
      ]
    },
    {
      "cell_type": "code",
      "source": [
        "data_test = np.load('FireEvac_test_set.npy')\n",
        "print(type(data_test))"
      ],
      "metadata": {
        "colab": {
          "base_uri": "https://localhost:8080/"
        },
        "id": "Ez8_YwmQRqFY",
        "outputId": "e2efe44b-8cc2-447c-d0cb-57cbbf10d9b9"
      },
      "execution_count": 5,
      "outputs": [
        {
          "output_type": "stream",
          "name": "stdout",
          "text": [
            "<class 'numpy.ndarray'>\n"
          ]
        }
      ]
    },
    {
      "cell_type": "code",
      "source": [
        "df_test = pd.DataFrame(data_test,columns = ['X-Coordinate','Y-Coordinate'])\n",
        "df_test.head()"
      ],
      "metadata": {
        "colab": {
          "base_uri": "https://localhost:8080/",
          "height": 206
        },
        "id": "5v2pq_UjRs9G",
        "outputId": "94e6a580-85e1-4806-b8b4-d3d7ea62c137"
      },
      "execution_count": 6,
      "outputs": [
        {
          "output_type": "execute_result",
          "data": {
            "text/plain": [
              "   X-Coordinate  Y-Coordinate\n",
              "0     79.233728     66.956408\n",
              "1     27.604958     74.588816\n",
              "2     53.205270     65.798210\n",
              "3    124.299537     87.967949\n",
              "4     76.150470     94.905859"
            ],
            "text/html": [
              "\n",
              "  <div id=\"df-29bc2314-5293-4cb4-b886-a84119a11356\">\n",
              "    <div class=\"colab-df-container\">\n",
              "      <div>\n",
              "<style scoped>\n",
              "    .dataframe tbody tr th:only-of-type {\n",
              "        vertical-align: middle;\n",
              "    }\n",
              "\n",
              "    .dataframe tbody tr th {\n",
              "        vertical-align: top;\n",
              "    }\n",
              "\n",
              "    .dataframe thead th {\n",
              "        text-align: right;\n",
              "    }\n",
              "</style>\n",
              "<table border=\"1\" class=\"dataframe\">\n",
              "  <thead>\n",
              "    <tr style=\"text-align: right;\">\n",
              "      <th></th>\n",
              "      <th>X-Coordinate</th>\n",
              "      <th>Y-Coordinate</th>\n",
              "    </tr>\n",
              "  </thead>\n",
              "  <tbody>\n",
              "    <tr>\n",
              "      <th>0</th>\n",
              "      <td>79.233728</td>\n",
              "      <td>66.956408</td>\n",
              "    </tr>\n",
              "    <tr>\n",
              "      <th>1</th>\n",
              "      <td>27.604958</td>\n",
              "      <td>74.588816</td>\n",
              "    </tr>\n",
              "    <tr>\n",
              "      <th>2</th>\n",
              "      <td>53.205270</td>\n",
              "      <td>65.798210</td>\n",
              "    </tr>\n",
              "    <tr>\n",
              "      <th>3</th>\n",
              "      <td>124.299537</td>\n",
              "      <td>87.967949</td>\n",
              "    </tr>\n",
              "    <tr>\n",
              "      <th>4</th>\n",
              "      <td>76.150470</td>\n",
              "      <td>94.905859</td>\n",
              "    </tr>\n",
              "  </tbody>\n",
              "</table>\n",
              "</div>\n",
              "      <button class=\"colab-df-convert\" onclick=\"convertToInteractive('df-29bc2314-5293-4cb4-b886-a84119a11356')\"\n",
              "              title=\"Convert this dataframe to an interactive table.\"\n",
              "              style=\"display:none;\">\n",
              "        \n",
              "  <svg xmlns=\"http://www.w3.org/2000/svg\" height=\"24px\"viewBox=\"0 0 24 24\"\n",
              "       width=\"24px\">\n",
              "    <path d=\"M0 0h24v24H0V0z\" fill=\"none\"/>\n",
              "    <path d=\"M18.56 5.44l.94 2.06.94-2.06 2.06-.94-2.06-.94-.94-2.06-.94 2.06-2.06.94zm-11 1L8.5 8.5l.94-2.06 2.06-.94-2.06-.94L8.5 2.5l-.94 2.06-2.06.94zm10 10l.94 2.06.94-2.06 2.06-.94-2.06-.94-.94-2.06-.94 2.06-2.06.94z\"/><path d=\"M17.41 7.96l-1.37-1.37c-.4-.4-.92-.59-1.43-.59-.52 0-1.04.2-1.43.59L10.3 9.45l-7.72 7.72c-.78.78-.78 2.05 0 2.83L4 21.41c.39.39.9.59 1.41.59.51 0 1.02-.2 1.41-.59l7.78-7.78 2.81-2.81c.8-.78.8-2.07 0-2.86zM5.41 20L4 18.59l7.72-7.72 1.47 1.35L5.41 20z\"/>\n",
              "  </svg>\n",
              "      </button>\n",
              "      \n",
              "  <style>\n",
              "    .colab-df-container {\n",
              "      display:flex;\n",
              "      flex-wrap:wrap;\n",
              "      gap: 12px;\n",
              "    }\n",
              "\n",
              "    .colab-df-convert {\n",
              "      background-color: #E8F0FE;\n",
              "      border: none;\n",
              "      border-radius: 50%;\n",
              "      cursor: pointer;\n",
              "      display: none;\n",
              "      fill: #1967D2;\n",
              "      height: 32px;\n",
              "      padding: 0 0 0 0;\n",
              "      width: 32px;\n",
              "    }\n",
              "\n",
              "    .colab-df-convert:hover {\n",
              "      background-color: #E2EBFA;\n",
              "      box-shadow: 0px 1px 2px rgba(60, 64, 67, 0.3), 0px 1px 3px 1px rgba(60, 64, 67, 0.15);\n",
              "      fill: #174EA6;\n",
              "    }\n",
              "\n",
              "    [theme=dark] .colab-df-convert {\n",
              "      background-color: #3B4455;\n",
              "      fill: #D2E3FC;\n",
              "    }\n",
              "\n",
              "    [theme=dark] .colab-df-convert:hover {\n",
              "      background-color: #434B5C;\n",
              "      box-shadow: 0px 1px 3px 1px rgba(0, 0, 0, 0.15);\n",
              "      filter: drop-shadow(0px 1px 2px rgba(0, 0, 0, 0.3));\n",
              "      fill: #FFFFFF;\n",
              "    }\n",
              "  </style>\n",
              "\n",
              "      <script>\n",
              "        const buttonEl =\n",
              "          document.querySelector('#df-29bc2314-5293-4cb4-b886-a84119a11356 button.colab-df-convert');\n",
              "        buttonEl.style.display =\n",
              "          google.colab.kernel.accessAllowed ? 'block' : 'none';\n",
              "\n",
              "        async function convertToInteractive(key) {\n",
              "          const element = document.querySelector('#df-29bc2314-5293-4cb4-b886-a84119a11356');\n",
              "          const dataTable =\n",
              "            await google.colab.kernel.invokeFunction('convertToInteractive',\n",
              "                                                     [key], {});\n",
              "          if (!dataTable) return;\n",
              "\n",
              "          const docLinkHtml = 'Like what you see? Visit the ' +\n",
              "            '<a target=\"_blank\" href=https://colab.research.google.com/notebooks/data_table.ipynb>data table notebook</a>'\n",
              "            + ' to learn more about interactive tables.';\n",
              "          element.innerHTML = '';\n",
              "          dataTable['output_type'] = 'display_data';\n",
              "          await google.colab.output.renderOutput(dataTable, element);\n",
              "          const docLink = document.createElement('div');\n",
              "          docLink.innerHTML = docLinkHtml;\n",
              "          element.appendChild(docLink);\n",
              "        }\n",
              "      </script>\n",
              "    </div>\n",
              "  </div>\n",
              "  "
            ]
          },
          "metadata": {},
          "execution_count": 6
        }
      ]
    },
    {
      "cell_type": "code",
      "source": [
        "df_test.plot(kind = 'scatter',x='X-Coordinate',y='Y-Coordinate',title='Testing data of MI Building',color = 'red')"
      ],
      "metadata": {
        "colab": {
          "base_uri": "https://localhost:8080/",
          "height": 313
        },
        "id": "Ys22rV9dRvu4",
        "outputId": "2a56f6d3-7ee3-4cad-babf-a2015501e8bf"
      },
      "execution_count": 7,
      "outputs": [
        {
          "output_type": "execute_result",
          "data": {
            "text/plain": [
              "<matplotlib.axes._subplots.AxesSubplot at 0x7f741c67a280>"
            ]
          },
          "metadata": {},
          "execution_count": 7
        },
        {
          "output_type": "display_data",
          "data": {
            "text/plain": [
              "<Figure size 432x288 with 1 Axes>"
            ],
            "image/png": "[encoded data removed]"
          },
          "metadata": {
            "needs_background": "light"
          }
        }
      ]
    },
    {
      "cell_type": "code",
      "source": [
        "print(df_train.shape)\n",
        "print(df_test.shape)"
      ],
      "metadata": {
        "colab": {
          "base_uri": "https://localhost:8080/"
        },
        "id": "i_pi340uRyU4",
        "outputId": "17191d25-f3fc-4d94-f15c-55cf4c80f881"
      },
      "execution_count": 8,
      "outputs": [
        {
          "output_type": "stream",
          "name": "stdout",
          "text": [
            "(3000, 2)\n",
            "(600, 2)\n"
          ]
        }
      ]
    },
    {
      "cell_type": "code",
      "source": [
        "scaler = MinMaxScaler(feature_range=(-1,1))\n",
        "train_set = scaler.fit_transform(df_train)\n",
        "test_set = scaler.transform(df_test)\n",
        "print(type(train_set))\n",
        "print(type(test_set))"
      ],
      "metadata": {
        "colab": {
          "base_uri": "https://localhost:8080/"
        },
        "id": "jJYZn5UoR094",
        "outputId": "7f02f99c-9cf1-4760-9425-627589d52f29"
      },
      "execution_count": 9,
      "outputs": [
        {
          "output_type": "stream",
          "name": "stdout",
          "text": [
            "<class 'numpy.ndarray'>\n",
            "<class 'numpy.ndarray'>\n"
          ]
        }
      ]
    },
    {
      "cell_type": "code",
      "source": [
        "df_train = pd.DataFrame(train_set,columns = ['X-Coordinate','Y-Coordinate'])\n",
        "df_test = pd.DataFrame(test_set,columns = ['X-Coordinate','Y-Coordinate'])"
      ],
      "metadata": {
        "id": "MuUr4F8cR3Xs"
      },
      "execution_count": 10,
      "outputs": []
    },
    {
      "cell_type": "code",
      "source": [
        "df_train.plot(kind = 'scatter',x='X-Coordinate',y='Y-Coordinate',title='Training data of MI Building')"
      ],
      "metadata": {
        "colab": {
          "base_uri": "https://localhost:8080/",
          "height": 313
        },
        "id": "Y0hnju2LR59U",
        "outputId": "a1dfc158-684a-489e-8a5c-a67ff40a70bd"
      },
      "execution_count": 11,
      "outputs": [
        {
          "output_type": "execute_result",
          "data": {
            "text/plain": [
              "<matplotlib.axes._subplots.AxesSubplot at 0x7f741c13c8e0>"
            ]
          },
          "metadata": {},
          "execution_count": 11
        },
        {
          "output_type": "display_data",
          "data": {
            "text/plain": [
              "<Figure size 432x288 with 1 Axes>"
            ],
            "image/png": "[encoded data removed]"
          },
          "metadata": {
            "needs_background": "light"
          }
        }
      ]
    },
    {
      "cell_type": "code",
      "source": [
        "df_test.plot(kind = 'scatter',x='X-Coordinate',y='Y-Coordinate',title='Testing data of MI Building',color = 'red')"
      ],
      "metadata": {
        "colab": {
          "base_uri": "https://localhost:8080/",
          "height": 313
        },
        "id": "CpWdsQggR7xG",
        "outputId": "6d3eb5de-2f50-44b4-aa37-a00b3631238a"
      },
      "execution_count": 12,
      "outputs": [
        {
          "output_type": "execute_result",
          "data": {
            "text/plain": [
              "<matplotlib.axes._subplots.AxesSubplot at 0x7f741c127ca0>"
            ]
          },
          "metadata": {},
          "execution_count": 12
        },
        {
          "output_type": "display_data",
          "data": {
            "text/plain": [
              "<Figure size 432x288 with 1 Axes>"
            ],
            "image/png": "[encoded data removed]"
          },
          "metadata": {
            "needs_background": "light"
          }
        }
      ]
    },
    {
      "cell_type": "markdown",
      "source": [
        "Setting up the Hyperparameters for training"
      ],
      "metadata": {
        "id": "eWId3S6aSV5E"
      }
    },
    {
      "cell_type": "code",
      "source": [
        "epochs = 101\n",
        "batch_size = 64\n",
        "learning_rate = 0.001"
      ],
      "metadata": {
        "id": "TTbUVIkhR-Gd"
      },
      "execution_count": 13,
      "outputs": []
    },
    {
      "cell_type": "code",
      "source": [
        "import torch; torch.manual_seed(0)\n",
        "from torch import nn\n",
        "from torch.nn.functional import relu\n",
        "from torch.utils.data import TensorDataset, DataLoader\n",
        "import torchvision\n",
        "from itertools import cycle\n",
        "from tqdm import tqdm\n",
        "\n",
        "\n",
        "device = 'cuda' if torch.cuda.is_available() else 'cpu'\n",
        "print(f\"Using {device} device\")"
      ],
      "metadata": {
        "colab": {
          "base_uri": "https://localhost:8080/"
        },
        "id": "NcEC9yHgSkrG",
        "outputId": "aecf1721-eb7b-4a02-bea8-c2e5b6ef397f"
      },
      "execution_count": 14,
      "outputs": [
        {
          "output_type": "stream",
          "name": "stdout",
          "text": [
            "Using cpu device\n"
          ]
        }
      ]
    },
    {
      "cell_type": "code",
      "source": [
        "class VariationalEncoder(nn.Module):\n",
        "    def __init__(self, latent_dims=10):\n",
        "        super(VariationalEncoder, self).__init__()\n",
        "\n",
        "        self.linear1 = nn.Linear(2, 256)\n",
        "        self.linear2 = nn.Linear(256, 256)\n",
        "        self.linear_mu = nn.Linear(256, latent_dims)\n",
        "        self.linear_sigma = nn.Linear(256, latent_dims)\n",
        "\n",
        "        self.N = torch.distributions.Normal(torch.zeros(latent_dims), torch.ones(latent_dims))\n",
        "        self.N.loc = self.N.loc.to(device)\n",
        "        self.N.scale = self.N.scale.to(device)\n",
        "        self.kl = 0\n",
        "\n",
        "    def forward(self, x):\n",
        "        x = torch.flatten(x, start_dim=1)\n",
        "        x = relu(self.linear1(x))\n",
        "        x = relu(self.linear2(x))\n",
        "        mu = self.linear_mu(x)\n",
        "        sigma = self.linear_sigma(x).exp()\n",
        "\n",
        "        z = mu + sigma*self.N.sample()\n",
        "        self.kl = 1/2 * (sigma**2 + mu**2 - torch.log(sigma ** 2) - 1).sum()\n",
        "        return z\n",
        "\n",
        "class Decoder(nn.Module):\n",
        "    def __init__(self, latent_dims=10):\n",
        "        super(Decoder, self).__init__()\n",
        "        self.linear1 = nn.Linear(latent_dims, 256)\n",
        "        self.linear2 = nn.Linear(256, 256)\n",
        "        self.linear3 = nn.Linear(256, 2)\n",
        "        self.sigma = nn.Parameter(torch.ones(1))\n",
        "\n",
        "    def forward(self, z):\n",
        "        z = relu(self.linear1(z))\n",
        "        z = relu(self.linear2(z))\n",
        "        z = torch.sigmoid(self.linear3(z))\n",
        "        return z\n",
        "\n",
        "class VariationalAutoencoder(nn.Module):\n",
        "    def __init__(self, latent_dims=2):\n",
        "        super(VariationalAutoencoder, self).__init__()\n",
        "        self.encoder = VariationalEncoder(latent_dims)\n",
        "        self.decoder = Decoder(latent_dims)\n",
        "\n",
        "    def forward(self, x):\n",
        "        z = self.encoder(x)\n",
        "        return self.decoder(z)"
      ],
      "metadata": {
        "id": "3uWBFsLYYhjK"
      },
      "execution_count": 15,
      "outputs": []
    },
    {
      "cell_type": "code",
      "source": [
        "def train_one_epoch(dataloader, model, loss_fn, optimizer):\n",
        "    size = len(dataloader.dataset)\n",
        "    model.train()\n",
        "    l = 0\n",
        "    for batch, (X) in enumerate(dataloader):\n",
        "        X = X.to(device)\n",
        "        optimizer.zero_grad()\n",
        "\n",
        "        pred = model(X)\n",
        "\n",
        "        loss = loss_fn(X, pred.squeeze(), model.decoder.sigma, model.encoder.kl)\n",
        "        l += loss.item()\n",
        "\n",
        "        loss.backward()\n",
        "        optimizer.step()\n",
        "    \n",
        "    l /= len(dataloader)\n",
        "    return l"
      ],
      "metadata": {
        "id": "hXK50FtSbK4U"
      },
      "execution_count": 16,
      "outputs": []
    },
    {
      "cell_type": "code",
      "source": [
        "def test(dataloader, model, loss_fn):\n",
        "    num_batches = len(dataloader)\n",
        "    model.eval()\n",
        "    test_loss = 0\n",
        "    with torch.no_grad():\n",
        "        for X in dataloader:\n",
        "            X = X.to(device)\n",
        "            pred = model(X)\n",
        "            test_loss += loss_fn(X, pred.squeeze(), model.decoder.sigma, model.encoder.kl).item()\n",
        "    test_loss /= num_batches\n",
        "    \n",
        "    return test_loss"
      ],
      "metadata": {
        "id": "W6y8_ug0bNFg"
      },
      "execution_count": 17,
      "outputs": []
    },
    {
      "cell_type": "code",
      "source": [
        "def elbo(X, mu, sigma, kl):\n",
        "    return (torch.distributions.Normal(mu, sigma.exp()).log_prob(X.squeeze()).sum() - kl) / len(X)\n",
        "\n",
        "def loss_fn(X, mu, sigma, kl):\n",
        "    return -elbo(X, mu, sigma, kl)"
      ],
      "metadata": {
        "id": "bPbMYhOGcgy4"
      },
      "execution_count": 18,
      "outputs": []
    },
    {
      "cell_type": "code",
      "source": [
        "def plot_latent(vae, dataloader, num_batches=100):\n",
        "    plt.figure(figsize=(10, 10))\n",
        "    prop_cycle = plt.rcParams['axes.prop_cycle']\n",
        "    colors = cycle(prop_cycle.by_key()['color'])\n",
        "    \n",
        "    for i, (x) in enumerate(dataloader):\n",
        "        z = vae.encoder(x.to(device))\n",
        "        z = z.to('cpu').detach().numpy()\n",
        "        plt.scatter(z[:, 0], z[:, 1], c=next(colors))\n",
        "        if i > num_batches:\n",
        "            plt.colorbar()\n",
        "            break\n",
        "    plt.show()\n",
        "\n",
        "def plot_reconstructed(vae, originals):\n",
        "    fig, axes = plt.subplots(2, len(originals), figsize=(25, 5))\n",
        "    \n",
        "    for i in range(len(originals)):\n",
        "        axes[1, i].imshow(vae(originals[i].to(device)).reshape(28, 28).to('cpu').detach().numpy())\n",
        "        axes[0, i].imshow(originals[i].squeeze().numpy())\n",
        "        \n",
        "    plt.show()\n",
        "\n",
        "def plot_generated(vae, samples):\n",
        "    fig, axes = plt.subplots(1, len(samples), figsize=(25, 5))\n",
        "    \n",
        "    imgs = vae.decoder(samples.to(device)).reshape(len(samples), 28, 28).to('cpu').detach().numpy()\n",
        "    \n",
        "    for i in range(len(samples)):\n",
        "        axes[i].imshow(imgs[i])\n",
        "        axes[i].set_title(f\"{samples[i][0].item():.1f}, {samples[i][1].item():.1f}\")\n",
        "        \n",
        "    plt.show()"
      ],
      "metadata": {
        "id": "sGLYOYhG4Bip"
      },
      "execution_count": 19,
      "outputs": []
    },
    {
      "cell_type": "code",
      "source": [
        "train_set = train_set.astype(np.float32)\n",
        "test_set = test_set.astype(np.float32)"
      ],
      "metadata": {
        "id": "kJ5GJ2RlgMjg"
      },
      "execution_count": 20,
      "outputs": []
    },
    {
      "cell_type": "code",
      "source": [
        "train_dataloader = DataLoader(train_set, batch_size=batch_size, shuffle=True)\n",
        "val_dataloader = DataLoader(test_set, batch_size=batch_size, shuffle=False)\n",
        "\n",
        "print(train_dataloader)"
      ],
      "metadata": {
        "colab": {
          "base_uri": "https://localhost:8080/"
        },
        "id": "szlspwuSXEM8",
        "outputId": "c8c6569d-35e2-42c0-d060-6ff0c4c43db9"
      },
      "execution_count": 21,
      "outputs": [
        {
          "output_type": "stream",
          "name": "stdout",
          "text": [
            "<torch.utils.data.dataloader.DataLoader object at 0x7f73a124a820>\n"
          ]
        }
      ]
    },
    {
      "cell_type": "code",
      "source": [
        "vae = VariationalAutoencoder(2).to(device)\n",
        "optimizer = torch.optim.Adam(vae.parameters(), lr=learning_rate)\n",
        "train_losses = []\n",
        "val_losses = []\n"
      ],
      "metadata": {
        "id": "Ix1BKl3eVIb4"
      },
      "execution_count": 22,
      "outputs": []
    },
    {
      "cell_type": "code",
      "source": [
        "for epoch in range(epochs):\n",
        "    train_losses.append(train_one_epoch(train_dataloader, vae, loss_fn, optimizer))\n",
        "    val_losses.append(test(val_dataloader, vae, loss_fn))\n",
        "    print(\"We are at Epoch {}\".format(epoch))\n",
        "    print(\"Current training loss is equal to:{}\".format(train_losses[epoch]))\n",
        "    print(\"Current testing loss is equal to:{}\".format(val_losses[epoch]))\n",
        "    \n",
        "\n",
        "\n",
        "\n",
        "plt.plot(train_losses, label='train loss')\n",
        "plt.plot(val_losses, label='validation loss')\n",
        "plt.legend()\n",
        "plt.show()\n",
        "\n",
        "\n",
        "\n",
        "     \n"
      ],
      "metadata": {
        "colab": {
          "base_uri": "https://localhost:8080/",
          "height": 1000
        },
        "id": "Ixe5tcz8VkOD",
        "outputId": "e24be930-4a66-4099-bafa-9c9917eb956d"
      },
      "execution_count": 23,
      "outputs": [
        {
          "output_type": "stream",
          "name": "stdout",
          "text": [
            "We are at Epoch 0\n",
            "Current training loss is equal to:3.8216498303920665\n",
            "Current testing loss is equal to:3.811232829093933\n",
            "We are at Epoch 1\n",
            "Current training loss is equal to:3.7271621379446476\n",
            "Current testing loss is equal to:3.718131399154663\n",
            "We are at Epoch 2\n",
            "Current training loss is equal to:3.636264978571141\n",
            "Current testing loss is equal to:3.632629919052124\n",
            "We are at Epoch 3\n",
            "Current training loss is equal to:3.545614186753618\n",
            "Current testing loss is equal to:3.54714891910553\n",
            "We are at Epoch 4\n",
            "Current training loss is equal to:3.4555102206291037\n",
            "Current testing loss is equal to:3.4702085971832277\n",
            "We are at Epoch 5\n",
            "Current training loss is equal to:3.3658349767644355\n",
            "Current testing loss is equal to:3.3789363384246824\n",
            "We are at Epoch 6\n",
            "Current training loss is equal to:3.2771251708903213\n",
            "Current testing loss is equal to:3.2934147119522095\n",
            "We are at Epoch 7\n",
            "Current training loss is equal to:3.1884688062870756\n",
            "Current testing loss is equal to:3.2091740131378175\n",
            "We are at Epoch 8\n",
            "Current training loss is equal to:3.1006537447584437\n",
            "Current testing loss is equal to:3.1315133571624756\n",
            "We are at Epoch 9\n",
            "Current training loss is equal to:3.0136800116681037\n",
            "Current testing loss is equal to:3.05140106678009\n",
            "We are at Epoch 10\n",
            "Current training loss is equal to:2.9274157818327557\n",
            "Current testing loss is equal to:2.978532648086548\n",
            "We are at Epoch 11\n",
            "Current training loss is equal to:2.842063208843799\n",
            "Current testing loss is equal to:2.9010350704193115\n",
            "We are at Epoch 12\n",
            "Current training loss is equal to:2.757814199366468\n",
            "Current testing loss is equal to:2.820742678642273\n",
            "We are at Epoch 13\n",
            "Current training loss is equal to:2.6747212562155216\n",
            "Current testing loss is equal to:2.7449451208114626\n",
            "We are at Epoch 14\n",
            "Current training loss is equal to:2.592483596598848\n",
            "Current testing loss is equal to:2.680787706375122\n",
            "We are at Epoch 15\n",
            "Current training loss is equal to:2.5112478580880673\n",
            "Current testing loss is equal to:2.6103251457214354\n",
            "We are at Epoch 16\n",
            "Current training loss is equal to:2.431839009548755\n",
            "Current testing loss is equal to:2.5394543409347534\n",
            "We are at Epoch 17\n",
            "Current training loss is equal to:2.353533278120325\n",
            "Current testing loss is equal to:2.4744157075881956\n",
            "We are at Epoch 18\n",
            "Current training loss is equal to:2.2774879932403564\n",
            "Current testing loss is equal to:2.429147553443909\n",
            "We are at Epoch 19\n",
            "Current training loss is equal to:2.202045775474386\n",
            "Current testing loss is equal to:2.3738022804260255\n",
            "We are at Epoch 20\n",
            "Current training loss is equal to:2.1296728773319975\n",
            "Current testing loss is equal to:2.29843692779541\n",
            "We are at Epoch 21\n",
            "Current training loss is equal to:2.0583647286638302\n",
            "Current testing loss is equal to:2.2765496492385866\n",
            "We are at Epoch 22\n",
            "Current training loss is equal to:1.98905385555105\n",
            "Current testing loss is equal to:2.223789131641388\n",
            "We are at Epoch 23\n",
            "Current training loss is equal to:1.9220251200046945\n",
            "Current testing loss is equal to:2.189202082157135\n",
            "We are at Epoch 24\n",
            "Current training loss is equal to:1.857872006740976\n",
            "Current testing loss is equal to:2.13197146654129\n",
            "We are at Epoch 25\n",
            "Current training loss is equal to:1.7949471676603277\n",
            "Current testing loss is equal to:2.1525014996528626\n",
            "We are at Epoch 26\n",
            "Current training loss is equal to:1.7370334965117433\n",
            "Current testing loss is equal to:2.0872902393341066\n",
            "We are at Epoch 27\n",
            "Current training loss is equal to:1.6800894331424794\n",
            "Current testing loss is equal to:2.0366666436195375\n",
            "We are at Epoch 28\n",
            "Current training loss is equal to:1.6266267274288422\n",
            "Current testing loss is equal to:2.033359956741333\n",
            "We are at Epoch 29\n",
            "Current training loss is equal to:1.5756796319433983\n",
            "Current testing loss is equal to:2.0240803956985474\n",
            "We are at Epoch 30\n",
            "Current training loss is equal to:1.527790236980357\n",
            "Current testing loss is equal to:2.059888458251953\n",
            "We are at Epoch 31\n",
            "Current training loss is equal to:1.4840094891000302\n",
            "Current testing loss is equal to:1.9793148517608643\n",
            "We are at Epoch 32\n",
            "Current training loss is equal to:1.4429425305508552\n",
            "Current testing loss is equal to:1.9848151087760926\n",
            "We are at Epoch 33\n",
            "Current training loss is equal to:1.4052629420097837\n",
            "Current testing loss is equal to:2.05112863779068\n",
            "We are at Epoch 34\n",
            "Current training loss is equal to:1.372558038285438\n",
            "Current testing loss is equal to:2.045082175731659\n",
            "We are at Epoch 35\n",
            "Current training loss is equal to:1.338016466891512\n",
            "Current testing loss is equal to:1.996592116355896\n",
            "We are at Epoch 36\n",
            "Current training loss is equal to:1.3098192823694108\n",
            "Current testing loss is equal to:2.0445462822914124\n",
            "We are at Epoch 37\n",
            "Current training loss is equal to:1.2840351627228108\n",
            "Current testing loss is equal to:2.065541458129883\n",
            "We are at Epoch 38\n",
            "Current training loss is equal to:1.2635622861537528\n",
            "Current testing loss is equal to:2.0433400154113768\n",
            "We are at Epoch 39\n",
            "Current training loss is equal to:1.2444296770907464\n",
            "Current testing loss is equal to:2.0016282320022585\n",
            "We are at Epoch 40\n",
            "Current training loss is equal to:1.224888801574707\n",
            "Current testing loss is equal to:2.1080078542232514\n",
            "We are at Epoch 41\n",
            "Current training loss is equal to:1.2119090049824817\n",
            "Current testing loss is equal to:1.9722487926483154\n",
            "We are at Epoch 42\n",
            "Current training loss is equal to:1.207398533821106\n",
            "Current testing loss is equal to:2.1577319622039797\n",
            "We are at Epoch 43\n",
            "Current training loss is equal to:1.1850738842436608\n",
            "Current testing loss is equal to:2.1615540862083433\n",
            "We are at Epoch 44\n",
            "Current training loss is equal to:1.18297593390688\n",
            "Current testing loss is equal to:2.3187527418136598\n",
            "We are at Epoch 45\n",
            "Current training loss is equal to:1.1765088071214391\n",
            "Current testing loss is equal to:2.1974308371543883\n",
            "We are at Epoch 46\n",
            "Current training loss is equal to:1.168043500565468\n",
            "Current testing loss is equal to:2.335174798965454\n",
            "We are at Epoch 47\n",
            "Current training loss is equal to:1.164024127290604\n",
            "Current testing loss is equal to:2.1626680970191954\n",
            "We are at Epoch 48\n",
            "Current training loss is equal to:1.147857631774659\n",
            "Current testing loss is equal to:2.2700878739356996\n",
            "We are at Epoch 49\n",
            "Current training loss is equal to:1.1462623933528333\n",
            "Current testing loss is equal to:2.330154079198837\n",
            "We are at Epoch 50\n",
            "Current training loss is equal to:1.1359256911785045\n",
            "Current testing loss is equal to:2.1557513236999513\n",
            "We are at Epoch 51\n",
            "Current training loss is equal to:1.177785206348338\n",
            "Current testing loss is equal to:1.9300670087337495\n",
            "We are at Epoch 52\n",
            "Current training loss is equal to:1.141228069650366\n",
            "Current testing loss is equal to:1.8495162189006806\n",
            "We are at Epoch 53\n",
            "Current training loss is equal to:1.1571820581212957\n",
            "Current testing loss is equal to:2.100112700462341\n",
            "We are at Epoch 54\n",
            "Current training loss is equal to:1.1033655785499734\n",
            "Current testing loss is equal to:2.423187565803528\n",
            "We are at Epoch 55\n",
            "Current training loss is equal to:1.1150601493551375\n",
            "Current testing loss is equal to:2.083875185251236\n",
            "We are at Epoch 56\n",
            "Current training loss is equal to:1.0889909191334501\n",
            "Current testing loss is equal to:2.2075546622276305\n",
            "We are at Epoch 57\n",
            "Current training loss is equal to:1.0856579478750839\n",
            "Current testing loss is equal to:2.2848399758338926\n",
            "We are at Epoch 58\n",
            "Current training loss is equal to:1.0232286034746374\n",
            "Current testing loss is equal to:1.8317702114582062\n",
            "We are at Epoch 59\n",
            "Current training loss is equal to:1.0251243735881561\n",
            "Current testing loss is equal to:1.9930577337741853\n",
            "We are at Epoch 60\n",
            "Current training loss is equal to:1.0997410061511588\n",
            "Current testing loss is equal to:2.1747503995895388\n",
            "We are at Epoch 61\n",
            "Current training loss is equal to:1.097523660101789\n",
            "Current testing loss is equal to:2.4872366786003113\n",
            "We are at Epoch 62\n",
            "Current training loss is equal to:1.0609200799718816\n",
            "Current testing loss is equal to:1.992026799917221\n",
            "We are at Epoch 63\n",
            "Current training loss is equal to:1.0808296152885923\n",
            "Current testing loss is equal to:2.413430464267731\n",
            "We are at Epoch 64\n",
            "Current training loss is equal to:0.9423695992916188\n",
            "Current testing loss is equal to:2.3324304074048996\n",
            "We are at Epoch 65\n",
            "Current training loss is equal to:1.171995293586812\n",
            "Current testing loss is equal to:2.362924671173096\n",
            "We are at Epoch 66\n",
            "Current training loss is equal to:1.0661003462811733\n",
            "Current testing loss is equal to:2.3284300714731216\n",
            "We are at Epoch 67\n",
            "Current training loss is equal to:1.0335875521314906\n",
            "Current testing loss is equal to:2.1345352679491043\n",
            "We are at Epoch 68\n",
            "Current training loss is equal to:1.0771873745512455\n",
            "Current testing loss is equal to:2.404427257180214\n",
            "We are at Epoch 69\n",
            "Current training loss is equal to:0.9463999176279028\n",
            "Current testing loss is equal to:2.656969648599625\n",
            "We are at Epoch 70\n",
            "Current training loss is equal to:0.9626375627010426\n",
            "Current testing loss is equal to:2.1585927337408064\n",
            "We are at Epoch 71\n",
            "Current training loss is equal to:0.8845862822329744\n",
            "Current testing loss is equal to:2.6811156153678892\n",
            "We are at Epoch 72\n",
            "Current training loss is equal to:0.9226284096849725\n",
            "Current testing loss is equal to:2.5131632566452025\n",
            "We are at Epoch 73\n",
            "Current training loss is equal to:1.0497790600391144\n",
            "Current testing loss is equal to:2.1360859632492066\n",
            "We are at Epoch 74\n",
            "Current training loss is equal to:0.8730457044662313\n",
            "Current testing loss is equal to:2.2688991904258726\n",
            "We are at Epoch 75\n",
            "Current training loss is equal to:0.8934345584600529\n",
            "Current testing loss is equal to:2.5795435458421707\n",
            "We are at Epoch 76\n",
            "Current training loss is equal to:1.0389142448597766\n",
            "Current testing loss is equal to:2.5476074427366258\n",
            "We are at Epoch 77\n",
            "Current training loss is equal to:0.9565134016757316\n",
            "Current testing loss is equal to:2.6289815604686737\n",
            "We are at Epoch 78\n",
            "Current training loss is equal to:0.8797312626179229\n",
            "Current testing loss is equal to:2.2912903636693955\n",
            "We are at Epoch 79\n",
            "Current training loss is equal to:0.9292587536446592\n",
            "Current testing loss is equal to:2.7051999866962433\n",
            "We are at Epoch 80\n",
            "Current training loss is equal to:1.036584013954122\n",
            "Current testing loss is equal to:2.442739674448967\n",
            "We are at Epoch 81\n",
            "Current training loss is equal to:1.026923585445323\n",
            "Current testing loss is equal to:2.8260653227567674\n",
            "We are at Epoch 82\n",
            "Current training loss is equal to:0.914979931521923\n",
            "Current testing loss is equal to:2.7844440758228304\n",
            "We are at Epoch 83\n",
            "Current training loss is equal to:0.9418893659368475\n",
            "Current testing loss is equal to:2.4314819484949113\n",
            "We are at Epoch 84\n",
            "Current training loss is equal to:0.8675909873018873\n",
            "Current testing loss is equal to:3.418984568119049\n",
            "We are at Epoch 85\n",
            "Current training loss is equal to:1.187029945723554\n",
            "Current testing loss is equal to:3.202228754758835\n",
            "We are at Epoch 86\n",
            "Current training loss is equal to:1.0518876111253779\n",
            "Current testing loss is equal to:2.44338573217392\n",
            "We are at Epoch 87\n",
            "Current training loss is equal to:0.8633325397968292\n",
            "Current testing loss is equal to:2.461641812324524\n",
            "We are at Epoch 88\n",
            "Current training loss is equal to:1.0221992458434814\n",
            "Current testing loss is equal to:2.4623184859752656\n",
            "We are at Epoch 89\n",
            "Current training loss is equal to:0.9173088999504738\n",
            "Current testing loss is equal to:2.8327018946409224\n",
            "We are at Epoch 90\n",
            "Current training loss is equal to:0.98700276334235\n",
            "Current testing loss is equal to:2.7120629787445067\n",
            "We are at Epoch 91\n",
            "Current training loss is equal to:0.8204492634915291\n",
            "Current testing loss is equal to:2.3601801693439484\n",
            "We are at Epoch 92\n",
            "Current training loss is equal to:0.9229646052451844\n",
            "Current testing loss is equal to:2.6437524378299715\n",
            "We are at Epoch 93\n",
            "Current training loss is equal to:0.9506107115365089\n",
            "Current testing loss is equal to:2.6129153072834015\n",
            "We are at Epoch 94\n",
            "Current training loss is equal to:0.9286116672323105\n",
            "Current testing loss is equal to:2.6532493114471434\n",
            "We are at Epoch 95\n",
            "Current training loss is equal to:0.939288742364721\n",
            "Current testing loss is equal to:2.710005459189415\n",
            "We are at Epoch 96\n",
            "Current training loss is equal to:0.8775540431763263\n",
            "Current testing loss is equal to:2.85573673248291\n",
            "We are at Epoch 97\n",
            "Current training loss is equal to:0.9375053060815689\n",
            "Current testing loss is equal to:2.576026752591133\n",
            "We are at Epoch 98\n",
            "Current training loss is equal to:0.7886014212953284\n",
            "Current testing loss is equal to:2.4458992809057234\n",
            "We are at Epoch 99\n",
            "Current training loss is equal to:0.9187473616701491\n",
            "Current testing loss is equal to:2.486616384983063\n",
            "We are at Epoch 100\n",
            "Current training loss is equal to:0.9831843610773695\n",
            "Current testing loss is equal to:2.4224375575780868\n"
          ]
        },
        {
          "output_type": "display_data",
          "data": {
            "text/plain": [
              "<Figure size 432x288 with 1 Axes>"
            ],
            "image/png": "[encoded data removed]"
          },
          "metadata": {
            "needs_background": "light"
          }
        }
      ]
    },
    {
      "cell_type": "code",
      "source": [
        "def reconstruct(model, dataloader):\n",
        "    model.eval()\n",
        "    reconstruction_result = []\n",
        "    for i, data in enumerate(dataloader):\n",
        "        reconstruction_result.append(model(data.view(data.size(0), -1)).detach())\n",
        "\n",
        "    return reconstruction_result"
      ],
      "metadata": {
        "id": "38NwFHSA7fyx"
      },
      "execution_count": 24,
      "outputs": []
    },
    {
      "cell_type": "code",
      "source": [
        "reconstruction_test = reconstruct(vae, val_dataloader)\n",
        "reconstruction_train = reconstruct(vae, train_dataloader)"
      ],
      "metadata": {
        "id": "IgzlIP8RA0IB"
      },
      "execution_count": 25,
      "outputs": []
    },
    {
      "cell_type": "code",
      "source": [
        "def detach_tensor(dataset):\n",
        "  detached_result = []\n",
        "  for tensor in dataset:\n",
        "    detached_result.append(scaler.inverse_transform(tensor.detach()))\n",
        "  return detached_result\n"
      ],
      "metadata": {
        "id": "3FygT4qsAs7R"
      },
      "execution_count": 26,
      "outputs": []
    },
    {
      "cell_type": "code",
      "source": [
        "detached_train = detach_tensor(reconstruction_train)\n",
        "detached_test = detach_tensor(reconstruction_test)"
      ],
      "metadata": {
        "id": "0ZU9LTuIC4Yw"
      },
      "execution_count": 27,
      "outputs": []
    },
    {
      "cell_type": "code",
      "source": [
        "detached_test = detach_tensor(reconstruction_test)"
      ],
      "metadata": {
        "id": "avXqVlGIGCXl"
      },
      "execution_count": 28,
      "outputs": []
    },
    {
      "cell_type": "code",
      "source": [
        "print(len(detached_train))\n",
        "print(len(detached_test))"
      ],
      "metadata": {
        "colab": {
          "base_uri": "https://localhost:8080/"
        },
        "id": "jeb9iUsVHrsH",
        "outputId": "40d318e4-6e1f-4ca4-b9ef-421757c3a341"
      },
      "execution_count": 29,
      "outputs": [
        {
          "output_type": "stream",
          "name": "stdout",
          "text": [
            "47\n",
            "10\n"
          ]
        }
      ]
    },
    {
      "cell_type": "code",
      "source": [
        "def visualize_mi_evacuation(dataset):\n",
        "  for arr in dataset:\n",
        "    plt.scatter(x = arr[:,0],y = arr[:,1])\n",
        "\n"
      ],
      "metadata": {
        "id": "VXG83SpaGP8Q"
      },
      "execution_count": 30,
      "outputs": []
    },
    {
      "cell_type": "code",
      "source": [
        "visualize_mi_evacuation(detached_train)\n"
      ],
      "metadata": {
        "colab": {
          "base_uri": "https://localhost:8080/",
          "height": 265
        },
        "id": "N77B4vRZHJFq",
        "outputId": "325c9503-3cc5-434a-c680-072c3567e294"
      },
      "execution_count": 31,
      "outputs": [
        {
          "output_type": "display_data",
          "data": {
            "text/plain": [
              "<Figure size 432x288 with 1 Axes>"
            ],
            "image/png": "[encoded data removed]"
          },
          "metadata": {
            "needs_background": "light"
          }
        }
      ]
    },
    {
      "cell_type": "code",
      "source": [
        "visualize_mi_evacuation(detached_test)"
      ],
      "metadata": {
        "colab": {
          "base_uri": "https://localhost:8080/",
          "height": 265
        },
        "id": "W9423AQ-HYrI",
        "outputId": "fda73181-1129-4ae9-ad94-59b47d915d06"
      },
      "execution_count": 32,
      "outputs": [
        {
          "output_type": "display_data",
          "data": {
            "text/plain": [
              "<Figure size 432x288 with 1 Axes>"
            ],
            "image/png": "[encoded data removed]"
          },
          "metadata": {
            "needs_background": "light"
          }
        }
      ]
    },
    {
      "cell_type": "code",
      "source": [],
      "metadata": {
        "id": "GIEHNXiLJg2l"
      },
      "execution_count": 32,
      "outputs": []
    }
  ]
}